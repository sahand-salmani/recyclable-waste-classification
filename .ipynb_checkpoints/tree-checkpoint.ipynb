{
 "cells": [
  {
   "cell_type": "code",
   "execution_count": 22,
   "id": "0ebf199b-696e-4fd6-9849-afc4cac6dc19",
   "metadata": {},
   "outputs": [],
   "source": [
    "class Node:\n",
    "    \n",
    "    def __init__(self, name):\n",
    "        self.node_name = name\n",
    "        self.images = []\n",
    "        self.children = []\n",
    "\n",
    "    def add_images(self, image):\n",
    "        self.images.append(image)\n",
    "\n",
    "    def add_child(self, child):\n",
    "        self.children.append(child)\n",
    "\n",
    "    def print_tree(self, intent=2):\n",
    "        result = self.node_name\n",
    "\n",
    "        if not self.children:\n",
    "            return result\n",
    "\n",
    "        for child in self.children:\n",
    "            result += ' ' * intent + child.print_tree(intent + 2)\n",
    "\n",
    "        return result\n",
    "\n",
    "    def __str__(self):\n",
    "        return self.print_tree(2)\n",
    "\n",
    "class Tree:\n",
    "    \n",
    "    def __init__(self, node):\n",
    "        self.root = node\n",
    "\n",
    "    def print_tree(self):\n",
    "        return str(self.root)\n",
    "            "
   ]
  },
  {
   "cell_type": "code",
   "execution_count": 23,
   "id": "ca65630c-8f68-4f19-9fc3-3366509aeecf",
   "metadata": {},
   "outputs": [],
   "source": [
    "images_node = Node('Images')\n",
    "cat_node = Node('Cat')\n",
    "mewo1 = Node('Meow1')\n",
    "mewo2 = Node('Meow2')\n",
    "dog_node = Node('Dog')\n",
    "hup1 = Node('Hup1')\n",
    "hup2 = Node('Hup2')\n",
    "\n",
    "images_node.add_child(cat_node)\n",
    "images_node.add_child(dog_node)\n",
    "\n",
    "cat_node.add_child(mewo1)\n",
    "cat_node.add_child(mewo2)\n",
    "\n",
    "dog_node.add_child(hup1)\n",
    "dog_node.add_child(hup2)"
   ]
  },
  {
   "cell_type": "code",
   "execution_count": 24,
   "id": "0f0498a2-47fb-4e68-bdf2-5eb54121bed7",
   "metadata": {},
   "outputs": [
    {
     "data": {
      "text/plain": [
       "'Images  Cat    Meow1 /n    Meow2 /n /n  Dog    Hup1 /n    Hup2 /n /n'"
      ]
     },
     "execution_count": 24,
     "metadata": {},
     "output_type": "execute_result"
    }
   ],
   "source": [
    "root = Tree(images_node)\n",
    "root.print_tree()"
   ]
  },
  {
   "cell_type": "code",
   "execution_count": null,
   "id": "d2e4f86f-6672-4e9d-9608-b5ea15a6ec59",
   "metadata": {},
   "outputs": [],
   "source": []
  }
 ],
 "metadata": {
  "kernelspec": {
   "display_name": "Python 3 (ipykernel)",
   "language": "python",
   "name": "python3"
  },
  "language_info": {
   "codemirror_mode": {
    "name": "ipython",
    "version": 3
   },
   "file_extension": ".py",
   "mimetype": "text/x-python",
   "name": "python",
   "nbconvert_exporter": "python",
   "pygments_lexer": "ipython3",
   "version": "3.11.7"
  }
 },
 "nbformat": 4,
 "nbformat_minor": 5
}
