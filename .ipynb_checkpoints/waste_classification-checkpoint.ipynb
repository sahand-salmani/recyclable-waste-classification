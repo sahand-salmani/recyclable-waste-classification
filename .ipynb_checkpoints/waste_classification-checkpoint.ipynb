{
 "cells": [
  {
   "cell_type": "code",
   "execution_count": 1,
   "id": "21d0de9e-6272-4018-9a5c-4d5fe8dc0732",
   "metadata": {},
   "outputs": [],
   "source": [
    "import re\n",
    "import os\n",
    "import cv2\n",
    "import numpy as np\n",
    "import pandas as pd\n",
    "from sklearn.svm import SVC\n",
    "import matplotlib.pyplot as plt\n",
    "from sklearn.decomposition import PCA\n",
    "from sklearn.decomposition import IncrementalPCA\n",
    "from sklearn.model_selection import StratifiedShuffleSplit"
   ]
  },
  {
   "cell_type": "code",
   "execution_count": 2,
   "id": "13e5b267-a957-4812-8b04-7023ada4382d",
   "metadata": {},
   "outputs": [],
   "source": [
    "IMAGES_PATH = os.path.join(os.getcwd(),'images')\n",
    "IMAGE_SIZE = (200,200)"
   ]
  },
  {
   "cell_type": "code",
   "execution_count": 3,
   "id": "c9be4346-d910-4f25-8da4-1b40ef920fad",
   "metadata": {},
   "outputs": [],
   "source": [
    "class Node:\n",
    "    \n",
    "    def __init__(self, name):\n",
    "        self.node_name = name\n",
    "        self.images = []\n",
    "        self.children = []\n",
    "\n",
    "    def add_image(self, image):\n",
    "        self.images.append(image)\n",
    "\n",
    "    def add_child(self, child):\n",
    "        self.children.append(child)\n",
    "\n",
    "    def print_tree(self, indent=0):\n",
    "        result = \"  \" * indent + str(self.node_name) + \"\\n\"\n",
    "        \n",
    "        # Print images in the current folder\n",
    "        for image in self.images:\n",
    "            result += \"  \" * (indent + 1) + f\"[Image] {image}\\n\"\n",
    "        \n",
    "        # Recursively print children folders\n",
    "        for child in self.children:\n",
    "            result += child.print_tree(indent + 2)\n",
    "\n",
    "        return result\n",
    "\n",
    "    def __str__(self):\n",
    "        return self.print_tree()\n",
    "\n",
    "class Tree:\n",
    "    \n",
    "    def __init__(self, node):\n",
    "        self.root = node\n",
    "\n",
    "    def print_tree(self):\n",
    "        print(str(self.root))\n",
    "\n",
    "\n",
    "root = Node(\"images\")"
   ]
  },
  {
   "cell_type": "code",
   "execution_count": 4,
   "id": "daed7ef4-7777-47ef-8883-860336f33c62",
   "metadata": {},
   "outputs": [],
   "source": [
    "def build_tree_from_directory(path):\n",
    "    def create_node_from_path(current_path):\n",
    "        node = Node(os.path.basename(current_path))\n",
    "        \n",
    "        for item in os.listdir(current_path):\n",
    "            item_path = os.path.join(current_path, item)\n",
    "            \n",
    "            if os.path.isdir(item_path):\n",
    "                child_node = create_node_from_path(item_path)\n",
    "                node.add_child(child_node)\n",
    "            elif os.path.isfile(item_path) and item_path.lower().endswith(('.png', '.jpg', '.jpeg', '.bmp')):\n",
    "                node.add_image(item_path)\n",
    "        \n",
    "        return node\n",
    "    \n",
    "    root_node = create_node_from_path(path)\n",
    "    return Tree(root_node)\n",
    "\n",
    "def collect_images_and_labels(node, current_label=None):\n",
    "    images = []\n",
    "    labels = []\n",
    "    \n",
    "    if node.images:\n",
    "        for image in node.images:\n",
    "            images.append(image)\n",
    "            labels.append(current_label)\n",
    "    \n",
    "    for child in node.children:\n",
    "        child_label = child.node_name if current_label is None else f\"{current_label}/{child.node_name}\"\n",
    "        child_images, child_labels = collect_images_and_labels(child, child_label)\n",
    "        images.extend(child_images)\n",
    "        labels.extend(child_labels)\n",
    "    \n",
    "    return images, labels\n",
    "\n",
    "def create_feature_matrix(tree, image_size=(200, 200)):\n",
    "    images, labels = collect_images_and_labels(tree.root)\n",
    "    \n",
    "    feature_matrix = []\n",
    "    for image_path, label in zip(images, labels):\n",
    "        img = cv2.imread(image_path)\n",
    "        if img is not None:\n",
    "            img_resized = cv2.resize(img, image_size)\n",
    "            img_flattened = img_resized.flatten()\n",
    "            feature_matrix.append(img_flattened)\n",
    "    \n",
    "    feature_matrix = np.array(feature_matrix)\n",
    "    labels = np.array(labels)\n",
    "    return feature_matrix, labels\n",
    "\n",
    "def plot_image_from_features_vectir(vector, image_size=(200, 200)):\n",
    "    img_reshaped = vector.reshape(image_size[0], image_size[1], 3)\n",
    "    img_rgb = cv2.cvtColor(img_reshaped, cv2.COLOR_BGR2RGB)\n",
    "    plt.imshow(img_rgb)\n",
    "    plt.axis('off')\n",
    "    plt.show()\n",
    "\n",
    "def remove_suffix_from_label(label):\n",
    "    return label.replace('/default', '').replace('/real_world', '')"
   ]
  },
  {
   "cell_type": "code",
   "execution_count": 5,
   "id": "e0f76744-b802-4e25-af84-cfeb6514bac1",
   "metadata": {},
   "outputs": [],
   "source": [
    "root_image = build_tree_from_directory(IMAGES_PATH)"
   ]
  },
  {
   "cell_type": "code",
   "execution_count": 6,
   "id": "1b2d9f05-7e56-4742-a8b5-ee3f8ccdf84b",
   "metadata": {},
   "outputs": [],
   "source": [
    "feature_matrix, labels = create_feature_matrix(root_image, IMAGE_SIZE)"
   ]
  },
  {
   "cell_type": "code",
   "execution_count": 7,
   "id": "fe2220ad-673a-4613-bbf8-72a83da740b0",
   "metadata": {},
   "outputs": [],
   "source": [
    "labels = [remove_suffix_from_label(label) for label in labels]\n",
    "labels = np.array(labels)"
   ]
  },
  {
   "cell_type": "code",
   "execution_count": 8,
   "id": "77e9b51d-1647-4d48-8be9-2a42259b5199",
   "metadata": {},
   "outputs": [
    {
     "name": "stdout",
     "output_type": "stream",
     "text": [
      "Shape of our features matrix is (15000, 120000)\n",
      "Shape of our labels vector is (15000,)\n"
     ]
    }
   ],
   "source": [
    "print(f'Shape of our features matrix is {feature_matrix.shape}')\n",
    "print(f'Shape of our labels vector is {labels.shape}')"
   ]
  },
  {
   "cell_type": "code",
   "execution_count": 9,
   "id": "b9a90311-09d0-4d20-b050-147a7f3ed049",
   "metadata": {},
   "outputs": [],
   "source": [
    "from sklearn import preprocessing\n",
    "le = preprocessing.LabelEncoder()\n",
    "numeric_labels = le.fit_transform(labels)\n",
    "label_mapping = {class_label: index for index, class_label in enumerate(le.classes_)}"
   ]
  },
  {
   "cell_type": "code",
   "execution_count": 10,
   "id": "7619a5c8-1366-40d6-968b-f4c33b143829",
   "metadata": {},
   "outputs": [],
   "source": [
    "X = feature_matrix.copy()\n",
    "y = numeric_labels.copy()"
   ]
  },
  {
   "cell_type": "code",
   "execution_count": null,
   "id": "72fcdeff-195c-4f39-b982-65ee2692df62",
   "metadata": {},
   "outputs": [],
   "source": []
  },
  {
   "cell_type": "code",
   "execution_count": 11,
   "id": "481593c1-341e-483c-b0f8-b72b7b5ea65f",
   "metadata": {},
   "outputs": [
    {
     "name": "stdout",
     "output_type": "stream",
     "text": [
      "Downloading data from https://storage.googleapis.com/tensorflow/keras-applications/vgg16/vgg16_weights_tf_dim_ordering_tf_kernels_notop.h5\n",
      "\u001b[1m58889256/58889256\u001b[0m \u001b[32m━━━━━━━━━━━━━━━━━━━━\u001b[0m\u001b[37m\u001b[0m \u001b[1m8s\u001b[0m 0us/step\n"
     ]
    }
   ],
   "source": [
    "from tensorflow.keras.applications import VGG16\n",
    "from tensorflow.keras.applications.vgg16 import preprocess_input\n",
    "from tensorflow.keras.preprocessing import image\n",
    "from tensorflow.keras.models import Model\n",
    "\n",
    "# Load the VGG16 model pre-trained on ImageNet\n",
    "base_model = VGG16(weights='imagenet', include_top=False)\n",
    "\n",
    "# Create a new model that outputs the features from the last convolutional layer\n",
    "model = Model(inputs=base_model.input, outputs=base_model.get_layer('block5_pool').output)\n",
    "\n",
    "# Function to preprocess and extract features from an image\n",
    "def extract_features(img_path):\n",
    "    img = image.load_img(img_path, target_size=(224, 224))  # Resize image to match VGG16 input size\n",
    "    img_data = image.img_to_array(img)\n",
    "    print(img_data.shape)\n",
    "    img_data = np.expand_dims(img_data, axis=0)\n",
    "    img_data = preprocess_input(img_data)  # Preprocess input according to VGG16 requirements\n",
    "    \n",
    "    features = model.predict(img_data)  # Extract features using the pre-trained model\n",
    "    return features\n",
    "\n"
   ]
  },
  {
   "cell_type": "code",
   "execution_count": null,
   "id": "538b22df-1480-4a22-9de7-56bf1361a328",
   "metadata": {},
   "outputs": [],
   "source": []
  },
  {
   "cell_type": "code",
   "execution_count": null,
   "id": "df19f969-c14c-4842-85c9-4656e21064bb",
   "metadata": {},
   "outputs": [],
   "source": []
  },
  {
   "cell_type": "code",
   "execution_count": null,
   "id": "195ae099-e93f-409a-9b82-f7070cb7ccfc",
   "metadata": {},
   "outputs": [],
   "source": []
  },
  {
   "cell_type": "code",
   "execution_count": null,
   "id": "8ec38042-eafc-42fb-ae89-440a383f5599",
   "metadata": {},
   "outputs": [],
   "source": [
    "\n",
    "# Example usage\n",
    "img_path = 'path/to/your/image.jpg'\n",
    "features = extract_features(img_path)\n",
    "print(\"Features shape:\", features.shape)  # Example output shape: (1, 7, 7, 512)"
   ]
  },
  {
   "cell_type": "markdown",
   "id": "b538f6f3-5b5a-49ee-92ea-57ddad86712f",
   "metadata": {},
   "source": [
    "### Applying Incremental PCA"
   ]
  },
  {
   "cell_type": "code",
   "execution_count": 16,
   "id": "698e1adc-c5d2-4b1d-a0af-e2c39ce7cc21",
   "metadata": {},
   "outputs": [
    {
     "data": {
      "image/png": "[encoded data removed]",
      "text/plain": [
       "<Figure size 1000x600 with 1 Axes>"
      ]
     },
     "metadata": {},
     "output_type": "display_data"
    },
    {
     "name": "stdout",
     "output_type": "stream",
     "text": [
      "Number of components that explain 95.0% variance: 1\n"
     ]
    }
   ],
   "source": [
    "n_components = 800  # Choose a reasonable number of components initially\n",
    "ipca = IncrementalPCA(n_components=n_components, batch_size=1000)\n",
    "\n",
    "# Fit IncrementalPCA to your data\n",
    "ipca.fit(X)\n",
    "\n",
    "# Explained variance ratio\n",
    "explained_variance_ratio = ipca.explained_variance_ratio_\n",
    "\n",
    "# Plot the explained variance ratio\n",
    "plt.figure(figsize=(10, 6))\n",
    "plt.plot(np.cumsum(explained_variance_ratio))\n",
    "plt.xlabel('Number of Components')\n",
    "plt.ylabel('Cumulative Explained Variance')\n",
    "plt.title('Explained Variance vs. Number of Components (IncrementalPCA)')\n",
    "plt.grid(True)\n",
    "plt.show()\n",
    "\n",
    "# Decide on the amount of variance to retain, e.g., 95%\n",
    "target_variance = 0.95\n",
    "\n",
    "# Find the number of components that explain the target variance\n",
    "cumulative_variance = np.cumsum(explained_variance_ratio)\n",
    "num_components = np.argmax(cumulative_variance >= target_variance) + 1\n",
    "\n",
    "print(f'Number of components that explain {target_variance*100}% variance: {num_components}')"
   ]
  },
  {
   "cell_type": "code",
   "execution_count": 17,
   "id": "fb976c2b-6a9f-48ff-b21e-9a05ab9ee242",
   "metadata": {},
   "outputs": [],
   "source": [
    "pca = PCA(n_components=900)\n",
    "X_pca = pca.fit_transform(X)"
   ]
  },
  {
   "cell_type": "code",
   "execution_count": 20,
   "id": "9b998a51-dd4c-4c38-9124-f560da2fc35b",
   "metadata": {},
   "outputs": [
    {
     "name": "stdout",
     "output_type": "stream",
     "text": [
      "Train label distribution: {0: 400, 1: 400, 2: 400, 3: 400, 4: 400, 5: 400, 6: 400, 7: 400, 8: 400, 9: 400, 10: 400, 11: 400, 12: 400, 13: 400, 14: 400, 15: 400, 16: 400, 17: 400, 18: 400, 19: 400, 20: 400, 21: 400, 22: 400, 23: 400, 24: 400, 25: 400, 26: 400, 27: 400, 28: 400, 29: 400}\n",
      "Test label distribution: {0: 100, 1: 100, 2: 100, 3: 100, 4: 100, 5: 100, 6: 100, 7: 100, 8: 100, 9: 100, 10: 100, 11: 100, 12: 100, 13: 100, 14: 100, 15: 100, 16: 100, 17: 100, 18: 100, 19: 100, 20: 100, 21: 100, 22: 100, 23: 100, 24: 100, 25: 100, 26: 100, 27: 100, 28: 100, 29: 100}\n"
     ]
    }
   ],
   "source": [
    "strat_split  = StratifiedShuffleSplit(n_splits=1, random_state=42, test_size=0.2) \n",
    "for train_index, test_index in strat_split.split(X_pca, y):\n",
    "    X_train, X_test = X[train_index], X[test_index]\n",
    "    y_train, y_test = y[train_index], y[test_index]\n",
    "\n",
    "# Verify the distribution of labels in the train and test sets\n",
    "unique, train_counts = np.unique(y_train, return_counts=True)\n",
    "unique, test_counts = np.unique(y_test, return_counts=True)\n",
    "print(\"Train label distribution:\", dict(zip(unique, train_counts)))\n",
    "print(\"Test label distribution:\", dict(zip(unique, test_counts)))"
   ]
  }
 ],
 "metadata": {
  "kernelspec": {
   "display_name": "Python 3 (ipykernel)",
   "language": "python",
   "name": "python3"
  },
  "language_info": {
   "codemirror_mode": {
    "name": "ipython",
    "version": 3
   },
   "file_extension": ".py",
   "mimetype": "text/x-python",
   "name": "python",
   "nbconvert_exporter": "python",
   "pygments_lexer": "ipython3",
   "version": "3.11.7"
  }
 },
 "nbformat": 4,
 "nbformat_minor": 5
}
