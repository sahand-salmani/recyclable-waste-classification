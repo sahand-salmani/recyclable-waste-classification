{
 "cells": [
  {
   "cell_type": "code",
   "execution_count": 139,
   "id": "21d0de9e-6272-4018-9a5c-4d5fe8dc0732",
   "metadata": {},
   "outputs": [],
   "source": [
    "import re\n",
    "import os\n",
    "import cv2\n",
    "import numpy as np\n",
    "import pandas as pd\n",
    "from sklearn.svm import SVC\n",
    "import matplotlib.pyplot as plt\n",
    "from sklearn.decomposition import PCA\n",
    "from sklearn.decomposition import IncrementalPCA\n",
    "from sklearn.model_selection import StratifiedShuffleSplit\n",
    "from sklearn.metrics import accuracy_score, classification_report"
   ]
  },
  {
   "cell_type": "code",
   "execution_count": 140,
   "id": "13e5b267-a957-4812-8b04-7023ada4382d",
   "metadata": {},
   "outputs": [],
   "source": [
    "IMAGES_PATH = os.path.join(os.getcwd(),'images')\n",
    "IMAGE_SIZE = (200,200)"
   ]
  },
  {
   "cell_type": "code",
   "execution_count": 141,
   "id": "c9be4346-d910-4f25-8da4-1b40ef920fad",
   "metadata": {},
   "outputs": [],
   "source": [
    "class Node:\n",
    "    \n",
    "    def __init__(self, name):\n",
    "        self.node_name = name\n",
    "        self.images = []\n",
    "        self.children = []\n",
    "\n",
    "    def add_image(self, image):\n",
    "        self.images.append(image)\n",
    "\n",
    "    def add_child(self, child):\n",
    "        self.children.append(child)\n",
    "\n",
    "    def print_tree(self, indent=0):\n",
    "        result = \"  \" * indent + str(self.node_name) + \"\\n\"\n",
    "        \n",
    "        # Print images in the current folder\n",
    "        for image in self.images:\n",
    "            result += \"  \" * (indent + 1) + f\"[Image] {image}\\n\"\n",
    "        \n",
    "        # Recursively print children folders\n",
    "        for child in self.children:\n",
    "            result += child.print_tree(indent + 2)\n",
    "\n",
    "        return result\n",
    "\n",
    "    def __str__(self):\n",
    "        return self.print_tree()\n",
    "\n",
    "class Tree:\n",
    "    \n",
    "    def __init__(self, node):\n",
    "        self.root = node\n",
    "\n",
    "    def print_tree(self):\n",
    "        print(str(self.root))\n",
    "\n",
    "\n",
    "root = Node(\"images\")"
   ]
  },
  {
   "cell_type": "code",
   "execution_count": 142,
   "id": "daed7ef4-7777-47ef-8883-860336f33c62",
   "metadata": {},
   "outputs": [],
   "source": [
    "def build_tree_from_directory(path):\n",
    "    def create_node_from_path(current_path):\n",
    "        node = Node(os.path.basename(current_path))\n",
    "        \n",
    "        for item in os.listdir(current_path):\n",
    "            item_path = os.path.join(current_path, item)\n",
    "            \n",
    "            if os.path.isdir(item_path):\n",
    "                child_node = create_node_from_path(item_path)\n",
    "                node.add_child(child_node)\n",
    "            elif os.path.isfile(item_path) and item_path.lower().endswith(('.png', '.jpg', '.jpeg', '.bmp')):\n",
    "                node.add_image(item_path)\n",
    "        \n",
    "        return node\n",
    "    \n",
    "    root_node = create_node_from_path(path)\n",
    "    return Tree(root_node)\n",
    "\n",
    "def collect_images_and_labels(node, current_label=None):\n",
    "    images = []\n",
    "    labels = []\n",
    "    \n",
    "    if node.images:\n",
    "        for image in node.images:\n",
    "            images.append(image)\n",
    "            labels.append(current_label)\n",
    "    \n",
    "    for child in node.children:\n",
    "        child_label = child.node_name if current_label is None else f\"{current_label}/{child.node_name}\"\n",
    "        child_images, child_labels = collect_images_and_labels(child, child_label)\n",
    "        images.extend(child_images)\n",
    "        labels.extend(child_labels)\n",
    "    \n",
    "    return images, labels\n",
    "\n",
    "def create_feature_matrix(tree, image_size=(200, 200)):\n",
    "    images, labels = collect_images_and_labels(tree.root)\n",
    "    \n",
    "    feature_matrix = []\n",
    "    for image_path, label in zip(images, labels):\n",
    "        img = cv2.imread(image_path)\n",
    "        if img is not None:\n",
    "            img_resized = cv2.resize(img, image_size)\n",
    "            img_flattened = img_resized.flatten()\n",
    "            feature_matrix.append(img_flattened)\n",
    "    \n",
    "    feature_matrix = np.array(feature_matrix)\n",
    "    labels = np.array(labels)\n",
    "    return feature_matrix, labels\n",
    "\n",
    "def plot_image_from_features_vectir(vector, image_size=(200, 200)):\n",
    "    img_reshaped = vector.reshape(image_size[0], image_size[1], 3)\n",
    "    img_rgb = cv2.cvtColor(img_reshaped, cv2.COLOR_BGR2RGB)\n",
    "    plt.imshow(img_rgb)\n",
    "    plt.axis('off')\n",
    "    plt.show()\n",
    "\n",
    "def remove_suffix_from_label(label):\n",
    "    return label.replace('/default', '').replace('/real_world', '')"
   ]
  },
  {
   "cell_type": "code",
   "execution_count": 143,
   "id": "e0f76744-b802-4e25-af84-cfeb6514bac1",
   "metadata": {},
   "outputs": [],
   "source": [
    "root_image = build_tree_from_directory(IMAGES_PATH)"
   ]
  },
  {
   "cell_type": "code",
   "execution_count": 144,
   "id": "1b2d9f05-7e56-4742-a8b5-ee3f8ccdf84b",
   "metadata": {},
   "outputs": [],
   "source": [
    "feature_matrix, labels = create_feature_matrix(root_image, IMAGE_SIZE)"
   ]
  },
  {
   "cell_type": "code",
   "execution_count": 145,
   "id": "fe2220ad-673a-4613-bbf8-72a83da740b0",
   "metadata": {},
   "outputs": [],
   "source": [
    "labels = [remove_suffix_from_label(label) for label in labels]\n",
    "labels = np.array(labels)"
   ]
  },
  {
   "cell_type": "code",
   "execution_count": 146,
   "id": "77e9b51d-1647-4d48-8be9-2a42259b5199",
   "metadata": {},
   "outputs": [
    {
     "name": "stdout",
     "output_type": "stream",
     "text": [
      "Shape of our features matrix is (15000, 120000)\n",
      "Shape of our labels vector is (15000,)\n"
     ]
    }
   ],
   "source": [
    "print(f'Shape of our features matrix is {feature_matrix.shape}')\n",
    "print(f'Shape of our labels vector is {labels.shape}')"
   ]
  },
  {
   "cell_type": "code",
   "execution_count": 147,
   "id": "b9a90311-09d0-4d20-b050-147a7f3ed049",
   "metadata": {},
   "outputs": [],
   "source": [
    "from sklearn import preprocessing\n",
    "le = preprocessing.LabelEncoder()\n",
    "numeric_labels = le.fit_transform(labels)\n",
    "label_mapping = {class_label: index for index, class_label in enumerate(le.classes_)}"
   ]
  },
  {
   "cell_type": "code",
   "execution_count": 148,
   "id": "7619a5c8-1366-40d6-968b-f4c33b143829",
   "metadata": {},
   "outputs": [],
   "source": [
    "X = feature_matrix.copy()\n",
    "y = numeric_labels.copy()"
   ]
  },
  {
   "cell_type": "markdown",
   "id": "b538f6f3-5b5a-49ee-92ea-57ddad86712f",
   "metadata": {},
   "source": [
    "### Applying Incremental PCA"
   ]
  },
  {
   "cell_type": "code",
   "execution_count": 149,
   "id": "698e1adc-c5d2-4b1d-a0af-e2c39ce7cc21",
   "metadata": {},
   "outputs": [
    {
     "data": {
      "image/png": "[encoded data removed]",
      "text/plain": [
       "<Figure size 1000x600 with 1 Axes>"
      ]
     },
     "metadata": {},
     "output_type": "display_data"
    }
   ],
   "source": [
    "n_components = 1000  # Choose a reasonable number of components initially\n",
    "ipca = IncrementalPCA(n_components=n_components, batch_size=1000)\n",
    "\n",
    "# Fit IncrementalPCA to your data\n",
    "ipca.fit(X)\n",
    "\n",
    "# Explained variance ratio\n",
    "explained_variance_ratio = ipca.explained_variance_ratio_\n",
    "\n",
    "# Plot the explained variance ratio\n",
    "plt.figure(figsize=(10, 6))\n",
    "plt.plot(np.cumsum(explained_variance_ratio))\n",
    "plt.xlabel('Number of Components')\n",
    "plt.ylabel('Cumulative Explained Variance')\n",
    "plt.title('Explained Variance vs. Number of Components (IncrementalPCA)')\n",
    "plt.grid(True)\n",
    "plt.show()"
   ]
  },
  {
   "cell_type": "code",
   "execution_count": 152,
   "id": "fb976c2b-6a9f-48ff-b21e-9a05ab9ee242",
   "metadata": {},
   "outputs": [],
   "source": [
    "pca = PCA(n_components=800)\n",
    "X_pca = pca.fit_transform(X)"
   ]
  },
  {
   "cell_type": "code",
   "execution_count": 153,
   "id": "10c08276-92a7-49ac-9ad9-f049a3971cf1",
   "metadata": {},
   "outputs": [
    {
     "data": {
      "text/plain": [
       "(15000, 800)"
      ]
     },
     "execution_count": 153,
     "metadata": {},
     "output_type": "execute_result"
    }
   ],
   "source": [
    "X_pca.shape"
   ]
  },
  {
   "cell_type": "code",
   "execution_count": 154,
   "id": "0f2f5bbc-d7a8-40c4-bc89-5ea2fe139480",
   "metadata": {},
   "outputs": [
    {
     "data": {
      "text/plain": [
       "(15000,)"
      ]
     },
     "execution_count": 154,
     "metadata": {},
     "output_type": "execute_result"
    }
   ],
   "source": [
    "y.shape"
   ]
  },
  {
   "cell_type": "code",
   "execution_count": 155,
   "id": "7bd29281-0ac7-4a94-b444-61ce03ff15b9",
   "metadata": {},
   "outputs": [
    {
     "data": {
      "text/plain": [
       "(15000, 120000)"
      ]
     },
     "execution_count": 155,
     "metadata": {},
     "output_type": "execute_result"
    }
   ],
   "source": [
    "X.shape"
   ]
  },
  {
   "cell_type": "code",
   "execution_count": 156,
   "id": "9b998a51-dd4c-4c38-9124-f560da2fc35b",
   "metadata": {},
   "outputs": [
    {
     "name": "stdout",
     "output_type": "stream",
     "text": [
      "Train label distribution: {0: 400, 1: 400, 2: 400, 3: 400, 4: 400, 5: 400, 6: 400, 7: 400, 8: 400, 9: 400, 10: 400, 11: 400, 12: 400, 13: 400, 14: 400, 15: 400, 16: 400, 17: 400, 18: 400, 19: 400, 20: 400, 21: 400, 22: 400, 23: 400, 24: 400, 25: 400, 26: 400, 27: 400, 28: 400, 29: 400}\n",
      "Test label distribution: {0: 100, 1: 100, 2: 100, 3: 100, 4: 100, 5: 100, 6: 100, 7: 100, 8: 100, 9: 100, 10: 100, 11: 100, 12: 100, 13: 100, 14: 100, 15: 100, 16: 100, 17: 100, 18: 100, 19: 100, 20: 100, 21: 100, 22: 100, 23: 100, 24: 100, 25: 100, 26: 100, 27: 100, 28: 100, 29: 100}\n"
     ]
    }
   ],
   "source": [
    "strat_split  = StratifiedShuffleSplit(n_splits=1, random_state=12, test_size=0.2) \n",
    "for train_index, test_index in strat_split.split(X_pca, y):\n",
    "    X_train, X_test = X_pca[train_index], X_pca[test_index]\n",
    "    y_train, y_test = y[train_index], y[test_index]\n",
    "\n",
    "# Verify the distribution of labels in the train and test sets\n",
    "unique, train_counts = np.unique(y_train, return_counts=True)\n",
    "unique, test_counts = np.unique(y_test, return_counts=True)\n",
    "print(\"Train label distribution:\", dict(zip(unique, train_counts)))\n",
    "print(\"Test label distribution:\", dict(zip(unique, test_counts)))"
   ]
  },
  {
   "cell_type": "code",
   "execution_count": 157,
   "id": "cdd327f1-c2b1-4037-9e4a-ca4bebeaa500",
   "metadata": {},
   "outputs": [
    {
     "name": "stdout",
     "output_type": "stream",
     "text": [
      "Shape of our train features is (12000, 800)\n",
      "Shape of our test features is (3000, 800)\n"
     ]
    }
   ],
   "source": [
    "print(f'Shape of our train features is {X_train.shape}')\n",
    "print(f'Shape of our test features is {X_test.shape}')"
   ]
  },
  {
   "cell_type": "code",
   "execution_count": 158,
   "id": "00a6d4b9-5d2c-436f-8de5-64660f90bd4b",
   "metadata": {},
   "outputs": [
    {
     "data": {
      "text/html": [
       "<style>#sk-container-id-9 {color: black;background-color: white;}#sk-container-id-9 pre{padding: 0;}#sk-container-id-9 div.sk-toggleable {background-color: white;}#sk-container-id-9 label.sk-toggleable__label {cursor: pointer;display: block;width: 100%;margin-bottom: 0;padding: 0.3em;box-sizing: border-box;text-align: center;}#sk-container-id-9 label.sk-toggleable__label-arrow:before {content: \"▸\";float: left;margin-right: 0.25em;color: #696969;}#sk-container-id-9 label.sk-toggleable__label-arrow:hover:before {color: black;}#sk-container-id-9 div.sk-estimator:hover label.sk-toggleable__label-arrow:before {color: black;}#sk-container-id-9 div.sk-toggleable__content {max-height: 0;max-width: 0;overflow: hidden;text-align: left;background-color: #f0f8ff;}#sk-container-id-9 div.sk-toggleable__content pre {margin: 0.2em;color: black;border-radius: 0.25em;background-color: #f0f8ff;}#sk-container-id-9 input.sk-toggleable__control:checked~div.sk-toggleable__content {max-height: 200px;max-width: 100%;overflow: auto;}#sk-container-id-9 input.sk-toggleable__control:checked~label.sk-toggleable__label-arrow:before {content: \"▾\";}#sk-container-id-9 div.sk-estimator input.sk-toggleable__control:checked~label.sk-toggleable__label {background-color: #d4ebff;}#sk-container-id-9 div.sk-label input.sk-toggleable__control:checked~label.sk-toggleable__label {background-color: #d4ebff;}#sk-container-id-9 input.sk-hidden--visually {border: 0;clip: rect(1px 1px 1px 1px);clip: rect(1px, 1px, 1px, 1px);height: 1px;margin: -1px;overflow: hidden;padding: 0;position: absolute;width: 1px;}#sk-container-id-9 div.sk-estimator {font-family: monospace;background-color: #f0f8ff;border: 1px dotted black;border-radius: 0.25em;box-sizing: border-box;margin-bottom: 0.5em;}#sk-container-id-9 div.sk-estimator:hover {background-color: #d4ebff;}#sk-container-id-9 div.sk-parallel-item::after {content: \"\";width: 100%;border-bottom: 1px solid gray;flex-grow: 1;}#sk-container-id-9 div.sk-label:hover label.sk-toggleable__label {background-color: #d4ebff;}#sk-container-id-9 div.sk-serial::before {content: \"\";position: absolute;border-left: 1px solid gray;box-sizing: border-box;top: 0;bottom: 0;left: 50%;z-index: 0;}#sk-container-id-9 div.sk-serial {display: flex;flex-direction: column;align-items: center;background-color: white;padding-right: 0.2em;padding-left: 0.2em;position: relative;}#sk-container-id-9 div.sk-item {position: relative;z-index: 1;}#sk-container-id-9 div.sk-parallel {display: flex;align-items: stretch;justify-content: center;background-color: white;position: relative;}#sk-container-id-9 div.sk-item::before, #sk-container-id-9 div.sk-parallel-item::before {content: \"\";position: absolute;border-left: 1px solid gray;box-sizing: border-box;top: 0;bottom: 0;left: 50%;z-index: -1;}#sk-container-id-9 div.sk-parallel-item {display: flex;flex-direction: column;z-index: 1;position: relative;background-color: white;}#sk-container-id-9 div.sk-parallel-item:first-child::after {align-self: flex-end;width: 50%;}#sk-container-id-9 div.sk-parallel-item:last-child::after {align-self: flex-start;width: 50%;}#sk-container-id-9 div.sk-parallel-item:only-child::after {width: 0;}#sk-container-id-9 div.sk-dashed-wrapped {border: 1px dashed gray;margin: 0 0.4em 0.5em 0.4em;box-sizing: border-box;padding-bottom: 0.4em;background-color: white;}#sk-container-id-9 div.sk-label label {font-family: monospace;font-weight: bold;display: inline-block;line-height: 1.2em;}#sk-container-id-9 div.sk-label-container {text-align: center;}#sk-container-id-9 div.sk-container {/* jupyter's `normalize.less` sets `[hidden] { display: none; }` but bootstrap.min.css set `[hidden] { display: none !important; }` so we also need the `!important` here to be able to override the default hidden behavior on the sphinx rendered scikit-learn.org. See: https://github.com/scikit-learn/scikit-learn/issues/21755 */display: inline-block !important;position: relative;}#sk-container-id-9 div.sk-text-repr-fallback {display: none;}</style><div id=\"sk-container-id-9\" class=\"sk-top-container\"><div class=\"sk-text-repr-fallback\"><pre>SVC(kernel=&#x27;linear&#x27;, random_state=42)</pre><b>In a Jupyter environment, please rerun this cell to show the HTML representation or trust the notebook. <br />On GitHub, the HTML representation is unable to render, please try loading this page with nbviewer.org.</b></div><div class=\"sk-container\" hidden><div class=\"sk-item\"><div class=\"sk-estimator sk-toggleable\"><input class=\"sk-toggleable__control sk-hidden--visually\" id=\"sk-estimator-id-9\" type=\"checkbox\" checked><label for=\"sk-estimator-id-9\" class=\"sk-toggleable__label sk-toggleable__label-arrow\">SVC</label><div class=\"sk-toggleable__content\"><pre>SVC(kernel=&#x27;linear&#x27;, random_state=42)</pre></div></div></div></div></div>"
      ],
      "text/plain": [
       "SVC(kernel='linear', random_state=42)"
      ]
     },
     "execution_count": 158,
     "metadata": {},
     "output_type": "execute_result"
    }
   ],
   "source": [
    "svm_model = SVC(kernel='linear', random_state=42)\n",
    "svm_model.fit(X_train, y_train)"
   ]
  },
  {
   "cell_type": "code",
   "execution_count": 159,
   "id": "09bd760a-07c5-4e79-aceb-b0bb317828c6",
   "metadata": {},
   "outputs": [
    {
     "name": "stdout",
     "output_type": "stream",
     "text": [
      "Accuracy: 0.5716666666666667\n",
      "              precision    recall  f1-score   support\n",
      "\n",
      "           0       0.58      0.60      0.59       100\n",
      "           1       0.41      0.41      0.41       100\n",
      "           2       0.51      0.52      0.52       100\n",
      "           3       0.34      0.42      0.38       100\n",
      "           4       0.44      0.51      0.47       100\n",
      "           5       0.34      0.32      0.33       100\n",
      "           6       0.62      0.80      0.70       100\n",
      "           7       0.67      0.62      0.64       100\n",
      "           8       0.57      0.66      0.61       100\n",
      "           9       0.76      0.87      0.81       100\n",
      "          10       0.62      0.70      0.66       100\n",
      "          11       0.62      0.68      0.65       100\n",
      "          12       0.62      0.53      0.57       100\n",
      "          13       0.72      0.68      0.70       100\n",
      "          14       0.40      0.25      0.31       100\n",
      "          15       0.51      0.31      0.39       100\n",
      "          16       0.56      0.51      0.53       100\n",
      "          17       0.66      0.70      0.68       100\n",
      "          18       0.62      0.62      0.62       100\n",
      "          19       0.60      0.65      0.62       100\n",
      "          20       0.66      0.65      0.65       100\n",
      "          21       0.61      0.67      0.64       100\n",
      "          22       0.68      0.52      0.59       100\n",
      "          23       0.53      0.66      0.59       100\n",
      "          24       0.60      0.56      0.58       100\n",
      "          25       0.36      0.35      0.36       100\n",
      "          26       0.45      0.37      0.40       100\n",
      "          27       0.72      0.78      0.75       100\n",
      "          28       0.74      0.69      0.72       100\n",
      "          29       0.59      0.54      0.57       100\n",
      "\n",
      "    accuracy                           0.57      3000\n",
      "   macro avg       0.57      0.57      0.57      3000\n",
      "weighted avg       0.57      0.57      0.57      3000\n",
      "\n"
     ]
    }
   ],
   "source": [
    "# Make predictions on the test set\n",
    "y_pred = svm_model.predict(X_test)\n",
    "\n",
    "# Calculate accuracy\n",
    "accuracy = accuracy_score(y_test, y_pred)\n",
    "print(f'Accuracy: {accuracy}')\n",
    "\n",
    "# Detailed classification report\n",
    "print(classification_report(y_test, y_pred))"
   ]
  }
 ],
 "metadata": {
  "kernelspec": {
   "display_name": "Python 3 (ipykernel)",
   "language": "python",
   "name": "python3"
  },
  "language_info": {
   "codemirror_mode": {
    "name": "ipython",
    "version": 3
   },
   "file_extension": ".py",
   "mimetype": "text/x-python",
   "name": "python",
   "nbconvert_exporter": "python",
   "pygments_lexer": "ipython3",
   "version": "3.11.7"
  }
 },
 "nbformat": 4,
 "nbformat_minor": 5
}
