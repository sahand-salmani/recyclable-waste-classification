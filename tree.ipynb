{
 "cells": [
  {
   "cell_type": "code",
   "execution_count": 44,
   "id": "fb7df5da-91ee-4a02-994b-028a2216d1db",
   "metadata": {},
   "outputs": [
    {
     "name": "stdout",
     "output_type": "stream",
     "text": [
      "root\n",
      "    child1\n",
      "        grandchild1\n",
      "        grandchild2\n",
      "    child2\n",
      "\n"
     ]
    }
   ],
   "source": [
    "class Node:\n",
    "    \n",
    "    def __init__(self, name):\n",
    "        self.node_name = name\n",
    "        self.images = []\n",
    "        self.children = []\n",
    "\n",
    "    def add_images(self, image):\n",
    "        self.images.append(image)\n",
    "\n",
    "    def add_child(self, child):\n",
    "        self.children.append(child)\n",
    "\n",
    "    def print_tree(self, indent=0):\n",
    "        result = \"  \" * indent + str(self.node_name) + \"\\n\"\n",
    "        \n",
    "        for child in self.children:\n",
    "            result += child.print_tree(indent + 2)\n",
    "\n",
    "        return result\n",
    "\n",
    "    def __str__(self):\n",
    "        return self.print_tree()\n",
    "\n",
    "class Tree:\n",
    "    \n",
    "    def __init__(self, node):\n",
    "        self.root = node\n",
    "\n",
    "    def print_tree(self):\n",
    "        print(str(self.root))\n",
    "\n",
    "# Example usage\n",
    "root = Node(\"root\")\n",
    "child1 = Node(\"child1\")\n",
    "child2 = Node(\"child2\")\n",
    "child1.add_child(Node(\"grandchild1\"))\n",
    "child1.add_child(Node(\"grandchild2\"))\n",
    "root.add_child(child1)\n",
    "root.add_child(child2)\n",
    "\n",
    "tree = Tree(root)\n",
    "tree.print_tree()\n"
   ]
  },
  {
   "cell_type": "code",
   "execution_count": null,
   "id": "d31593ce-71b0-49cd-b598-886561a80384",
   "metadata": {},
   "outputs": [],
   "source": []
  }
 ],
 "metadata": {
  "kernelspec": {
   "display_name": "Python 3 (ipykernel)",
   "language": "python",
   "name": "python3"
  },
  "language_info": {
   "codemirror_mode": {
    "name": "ipython",
    "version": 3
   },
   "file_extension": ".py",
   "mimetype": "text/x-python",
   "name": "python",
   "nbconvert_exporter": "python",
   "pygments_lexer": "ipython3",
   "version": "3.11.7"
  }
 },
 "nbformat": 4,
 "nbformat_minor": 5
}
